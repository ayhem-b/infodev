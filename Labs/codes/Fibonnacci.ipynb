{
 "cells": [
  {
   "cell_type": "code",
   "execution_count": 1,
   "id": "3a216dfa-5fc2-4a6b-b7c1-aa0371a475a2",
   "metadata": {},
   "outputs": [
    {
     "data": {
      "text/plain": [
       "fib (generic function with 2 methods)"
      ]
     },
     "execution_count": 1,
     "metadata": {},
     "output_type": "execute_result"
    }
   ],
   "source": [
    "function fib(n=10)\n",
    "    F=zeros(n);\n",
    "    F[1]=1;F[2]=1;\n",
    "    for i=3:n\n",
    "        F[i]=F[i-1]+F[i-2];\n",
    "    end\n",
    "    F\n",
    "end\n",
    "\n"
   ]
  },
  {
   "cell_type": "code",
   "execution_count": 2,
   "id": "58855e43-be73-402c-a6c7-75663efd0611",
   "metadata": {},
   "outputs": [
    {
     "data": {
      "text/plain": [
       "16-element Vector{Float64}:\n",
       "   1.0\n",
       "   1.0\n",
       "   2.0\n",
       "   3.0\n",
       "   5.0\n",
       "   8.0\n",
       "  13.0\n",
       "  21.0\n",
       "  34.0\n",
       "  55.0\n",
       "  89.0\n",
       " 144.0\n",
       " 233.0\n",
       " 377.0\n",
       " 610.0\n",
       " 987.0"
      ]
     },
     "execution_count": 2,
     "metadata": {},
     "output_type": "execute_result"
    }
   ],
   "source": [
    "fib(16)\n"
   ]
  },
  {
   "cell_type": "code",
   "execution_count": null,
   "id": "d8ad4d2e-3eda-4050-be74-092f4e3b3573",
   "metadata": {},
   "outputs": [],
   "source": []
  }
 ],
 "metadata": {
  "kernelspec": {
   "display_name": "Julia 1.10.4",
   "language": "julia",
   "name": "julia-1.10"
  },
  "language_info": {
   "file_extension": ".jl",
   "mimetype": "application/julia",
   "name": "julia",
   "version": "1.10.4"
  }
 },
 "nbformat": 4,
 "nbformat_minor": 5
}
